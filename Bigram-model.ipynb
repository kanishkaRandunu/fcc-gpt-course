{
 "cells": [
  {
   "cell_type": "code",
   "execution_count": 1,
   "id": "724377e2",
   "metadata": {},
   "outputs": [],
   "source": [
    "import torch\n",
    "import numpy as np\n",
    "import time\n",
    "import torch.nn as nn\n",
    "from torch.nn import functional as F\n",
    "\n",
    "device = 'mps' if torch.backends.mps.is_available else 'cpu'\n",
    "device = torch.device(\"cpu\") # issue with mps and torch - mac"
   ]
  },
  {
   "cell_type": "code",
   "execution_count": 2,
   "id": "979d1d10",
   "metadata": {},
   "outputs": [],
   "source": [
    "block_size = 8\n",
    "batch_size = 4\n",
    "max_iters = 10000\n",
    "learning_rate = 3e-4\n",
    "eval_iters = 250\n",
    "dropout = 0.2"
   ]
  },
  {
   "cell_type": "code",
   "execution_count": 3,
   "id": "4ae1837a",
   "metadata": {},
   "outputs": [
    {
     "name": "stdout",
     "output_type": "stream",
     "text": [
      "['\\n', ' ', '!', '\"', '&', \"'\", '(', ')', '*', ',', '-', '.', '0', '1', '2', '3', '4', '5', '6', '7', '8', '9', ':', ';', '?', 'A', 'B', 'C', 'D', 'E', 'F', 'G', 'H', 'I', 'J', 'K', 'L', 'M', 'N', 'O', 'P', 'Q', 'R', 'S', 'T', 'U', 'V', 'W', 'X', 'Y', 'Z', '[', ']', '_', 'a', 'b', 'c', 'd', 'e', 'f', 'g', 'h', 'i', 'j', 'k', 'l', 'm', 'n', 'o', 'p', 'q', 'r', 's', 't', 'u', 'v', 'w', 'x', 'y', 'z']\n"
     ]
    }
   ],
   "source": [
    "with open('wizard_of_oz.txt','r',encoding='utf-8') as f:\n",
    "    text = f.read()\n",
    "    \n",
    "chars = sorted(set(text))\n",
    "print(chars)\n",
    "vocab_size = len(chars)"
   ]
  },
  {
   "cell_type": "code",
   "execution_count": 4,
   "id": "ec068a0a",
   "metadata": {},
   "outputs": [
    {
     "data": {
      "text/plain": [
       "80"
      ]
     },
     "execution_count": 4,
     "metadata": {},
     "output_type": "execute_result"
    }
   ],
   "source": [
    "vocab_size"
   ]
  },
  {
   "cell_type": "code",
   "execution_count": 5,
   "id": "7936bf9f",
   "metadata": {},
   "outputs": [],
   "source": [
    "string_to_int = {ch:i for i,ch in enumerate(chars)}\n",
    "int_to_string = {i:ch for i,ch in enumerate(chars)}\n",
    "\n",
    "encode = lambda s: [string_to_int[c] for c in s]\n",
    "decode = lambda l: ''.join([int_to_string[i] for i in l])\n",
    "\n",
    "data = torch.tensor(encode(text), dtype=torch.long)"
   ]
  },
  {
   "cell_type": "code",
   "execution_count": 6,
   "id": "ed173070",
   "metadata": {},
   "outputs": [
    {
     "name": "stdout",
     "output_type": "stream",
     "text": [
      "tensor([ 1,  1, 28, 39, 42, 39, 44, 32, 49,  1, 25, 38, 28,  1, 44, 32, 29,  1,\n",
      "        47, 33, 50, 25, 42, 28,  1, 33, 38,  1, 39, 50,  0,  0,  1,  1, 26, 49,\n",
      "         0,  0,  1,  1, 36, 11,  1, 30, 42, 25, 38, 35,  1, 26, 25, 45, 37,  0,\n",
      "         0,  1,  1, 25, 45, 44, 32, 39, 42,  1, 39, 30,  1, 44, 32, 29,  1, 47,\n",
      "        33, 50, 25, 42, 28,  1, 39, 30,  1, 39, 50,  9,  1, 44, 32, 29,  1, 36,\n",
      "        25, 38, 28,  1, 39, 30,  1, 39, 50,  9])\n"
     ]
    }
   ],
   "source": [
    "print(data[:100])"
   ]
  },
  {
   "cell_type": "code",
   "execution_count": 7,
   "id": "1a768490",
   "metadata": {},
   "outputs": [],
   "source": [
    "n = int(0.8*len(data))\n",
    "train_data = data[:n]\n",
    "val_data = data[n:]"
   ]
  },
  {
   "cell_type": "code",
   "execution_count": 8,
   "id": "72e04ca9",
   "metadata": {},
   "outputs": [],
   "source": [
    "def get_batch(split):\n",
    "    data = train_data if split == 'train' else val_data\n",
    "    ix = torch.randint(len(data) - block_size, (batch_size,))\n",
    "#     print(ix)\n",
    "    \n",
    "    x = torch.stack([data[i:i+block_size] for i in ix])\n",
    "    y = torch.stack([data[i+1:i+block_size+1] for i in ix])\n",
    "    x, y = x.to(device), y.to(device)\n",
    "    return x,y"
   ]
  },
  {
   "cell_type": "code",
   "execution_count": 9,
   "id": "8d82a556",
   "metadata": {},
   "outputs": [
    {
     "name": "stdout",
     "output_type": "stream",
     "text": [
      "inputs:\n",
      "tensor([[61, 58,  1, 55, 68, 78, 11,  0],\n",
      "        [72, 61, 54, 71, 69,  9,  1, 56],\n",
      "        [ 1, 73, 61, 58,  1, 73, 61, 71],\n",
      "        [ 1, 55, 74, 62, 65, 73,  1, 73]])\n",
      "targets:\n",
      "tensor([[58,  1, 55, 68, 78, 11,  0,  0],\n",
      "        [61, 54, 71, 69,  9,  1, 56, 65],\n",
      "        [73, 61, 58,  1, 73, 61, 71, 68],\n",
      "        [55, 74, 62, 65, 73,  1, 73, 61]])\n"
     ]
    }
   ],
   "source": [
    "x, y = get_batch('train')\n",
    "print('inputs:')\n",
    "print(x)\n",
    "print('targets:')\n",
    "print(y)"
   ]
  },
  {
   "cell_type": "code",
   "execution_count": 10,
   "id": "37c3c06a",
   "metadata": {},
   "outputs": [],
   "source": [
    "@torch.no_grad()\n",
    "def estimate_loss():\n",
    "    out = {}\n",
    "    model.eval()\n",
    "    for split in ['train', 'val']:\n",
    "        losses = torch.zeros(eval_iters)\n",
    "        for k in range(eval_iters):\n",
    "            X, Y = get_batch(split)\n",
    "            logits, loss = model(X,Y)\n",
    "            losses[k] = loss.item()\n",
    "        out[split] = losses.mean()\n",
    "    model.train()\n",
    "    return out"
   ]
  },
  {
   "cell_type": "code",
   "execution_count": 11,
   "id": "241b25e4",
   "metadata": {},
   "outputs": [
    {
     "name": "stdout",
     "output_type": "stream",
     "text": [
      "\n",
      "XR9[,K7li*T'Objz)a:ak9.JFg! 6ykKotu-*J9QiOe dDQL);NxVpRaUMrdB*tUSaP0CbTrt\n",
      "99Q;_]r70gbqvZA,WhM'E[&9tFV\")l54yh5GAf\";j]wcn\n",
      "r*T-N_pnKotKeIg(QOv,wp?Q['859I'w]f:drQ19t3madpDU\n",
      "9Lk]2o4 u?WjsE; &G.\"'iSR,w.aXtR9tCvFHBA6Lbb\n",
      "lI)Sx(hAOr\"(gVr'HMjTaNRQFfeZakir6L7T ]ClF-1! 'm8cLP*'(Uc]&iig)qsev9_q&7s5AKxqot?MuQC6)JJ3]zIMJB:&vuZC5RQO_h,1v3-Hp0lHFxzXIpITTXyFVWMc3h*43as5q)yhRNDTz)T7aA&Twu\"D;\"lp0-1\n",
      ",5YI85&FHw\". x(.Jja\n",
      "lI9t&\"4WYTg.u:jcv3q:2m;Zh!YEyH\n",
      "7R,BkN0-q1\n",
      "l\n",
      "Trpc:dJ]eM1nq:3\"?3j]Ko&7FV dx6\"?\n",
      "7!6Y,sAp(i!eq5QAW,whF\n"
     ]
    }
   ],
   "source": [
    "class BigramLanguageModel(nn.Module):\n",
    "    def __init__(self, vocab_size):\n",
    "        super().__init__()\n",
    "        self.token_embedding_table = nn.Embedding(vocab_size, vocab_size)\n",
    "        \n",
    "    def forward(self, index, targets=None):\n",
    "        logits = self.token_embedding_table(index)\n",
    "        \n",
    "        if targets is None:\n",
    "            loss = None\n",
    "        else:\n",
    "            B, T, C = logits.shape  # B=batch size, T=sequence length, C=vocab size\n",
    "            logits = logits.view(B*T, C)\n",
    "            targets = targets.view(B*T)\n",
    "            loss = F.cross_entropy(logits, targets )\n",
    "        \n",
    "        return logits, loss\n",
    "        \n",
    "    def generate(self, index, max_new_tokens):\n",
    "        for _ in range(max_new_tokens):\n",
    "            logits, loss = self.forward(index)            # Step 1: Get predictions from model\n",
    "            logits = logits[:, -1, :]                     # Step 2: Take only the last time step's logits\n",
    "            probs = F.softmax(logits, dim=-1)             # Step 3: Convert logits to probabilities\n",
    "            index_next = torch.multinomial(probs, 1)      # Step 4: Pick next token based on probability\n",
    "            index = torch.cat((index, index_next), 1)     # Step 5: Add it to the input\n",
    "        return index\n",
    "    \n",
    "model = BigramLanguageModel(vocab_size)\n",
    "m = model.to(device)\n",
    "\n",
    "context = torch.zeros((1,1), dtype=torch.long, device=device)\n",
    "generated_chars = decode(m.generate(context, max_new_tokens=500)[0].tolist())\n",
    "print(generated_chars)"
   ]
  },
  {
   "cell_type": "code",
   "execution_count": 17,
   "id": "5a50564d",
   "metadata": {},
   "outputs": [
    {
     "name": "stdout",
     "output_type": "stream",
     "text": [
      "step: 0, train loss: 2.526, val loss: 2.549\n",
      "step: 250, train loss: 2.498, val loss: 2.540\n",
      "step: 500, train loss: 2.526, val loss: 2.550\n",
      "step: 750, train loss: 2.524, val loss: 2.524\n",
      "step: 1000, train loss: 2.515, val loss: 2.562\n",
      "step: 1250, train loss: 2.493, val loss: 2.536\n",
      "step: 1500, train loss: 2.534, val loss: 2.558\n",
      "step: 1750, train loss: 2.525, val loss: 2.546\n",
      "step: 2000, train loss: 2.519, val loss: 2.540\n",
      "step: 2250, train loss: 2.504, val loss: 2.561\n",
      "step: 2500, train loss: 2.496, val loss: 2.543\n",
      "step: 2750, train loss: 2.497, val loss: 2.529\n",
      "step: 3000, train loss: 2.487, val loss: 2.547\n",
      "step: 3250, train loss: 2.517, val loss: 2.562\n",
      "step: 3500, train loss: 2.489, val loss: 2.530\n",
      "step: 3750, train loss: 2.497, val loss: 2.539\n",
      "step: 4000, train loss: 2.476, val loss: 2.547\n",
      "step: 4250, train loss: 2.478, val loss: 2.523\n",
      "step: 4500, train loss: 2.485, val loss: 2.510\n",
      "step: 4750, train loss: 2.501, val loss: 2.503\n",
      "step: 5000, train loss: 2.492, val loss: 2.529\n",
      "step: 5250, train loss: 2.503, val loss: 2.536\n",
      "step: 5500, train loss: 2.464, val loss: 2.544\n",
      "step: 5750, train loss: 2.493, val loss: 2.534\n",
      "step: 6000, train loss: 2.477, val loss: 2.528\n",
      "step: 6250, train loss: 2.511, val loss: 2.538\n",
      "step: 6500, train loss: 2.484, val loss: 2.511\n",
      "step: 6750, train loss: 2.470, val loss: 2.512\n",
      "step: 7000, train loss: 2.491, val loss: 2.532\n",
      "step: 7250, train loss: 2.487, val loss: 2.508\n",
      "step: 7500, train loss: 2.458, val loss: 2.524\n",
      "step: 7750, train loss: 2.490, val loss: 2.529\n",
      "step: 8000, train loss: 2.479, val loss: 2.520\n",
      "step: 8250, train loss: 2.466, val loss: 2.522\n",
      "step: 8500, train loss: 2.476, val loss: 2.486\n",
      "step: 8750, train loss: 2.474, val loss: 2.521\n",
      "step: 9000, train loss: 2.474, val loss: 2.517\n",
      "step: 9250, train loss: 2.466, val loss: 2.510\n",
      "step: 9500, train loss: 2.460, val loss: 2.515\n",
      "step: 9750, train loss: 2.485, val loss: 2.471\n"
     ]
    }
   ],
   "source": [
    "# AdamW optimizer\n",
    "\n",
    "optimizer = torch.optim.AdamW(model.parameters(), lr=learning_rate)\n",
    "\n",
    "for iter in range(max_iters):\n",
    "    if iter % eval_iters ==0:\n",
    "        losses = estimate_loss()\n",
    "        print(f\"step: {iter}, train loss: {losses['train']:.3f}, val loss: {losses['val']:.3f}\")\n",
    "    \n",
    "    xb, yb = get_batch('train')\n",
    "    \n",
    "    # evaluate loss\n",
    "    logits, loss = model.forward(xb, yb)\n",
    "    optimizer.zero_grad(set_to_none=True)\n",
    "    loss.backward()\n",
    "    optimizer.step()"
   ]
  },
  {
   "cell_type": "code",
   "execution_count": null,
   "id": "eb3d8e2f",
   "metadata": {},
   "outputs": [],
   "source": [
    "print(loss.item())"
   ]
  },
  {
   "cell_type": "code",
   "execution_count": null,
   "id": "fd65db25",
   "metadata": {},
   "outputs": [],
   "source": [
    "context = torch.zeros((1,1), dtype=torch.long, device=device)\n",
    "generated_chars = decode(m.generate(context, max_new_tokens=500)[0].tolist())\n",
    "print(generated_chars)"
   ]
  },
  {
   "cell_type": "code",
   "execution_count": null,
   "id": "077326a4",
   "metadata": {},
   "outputs": [],
   "source": []
  }
 ],
 "metadata": {
  "kernelspec": {
   "display_name": "cuda-gpt",
   "language": "python",
   "name": "cuda"
  },
  "language_info": {
   "codemirror_mode": {
    "name": "ipython",
    "version": 3
   },
   "file_extension": ".py",
   "mimetype": "text/x-python",
   "name": "python",
   "nbconvert_exporter": "python",
   "pygments_lexer": "ipython3",
   "version": "3.11.5"
  }
 },
 "nbformat": 4,
 "nbformat_minor": 5
}
